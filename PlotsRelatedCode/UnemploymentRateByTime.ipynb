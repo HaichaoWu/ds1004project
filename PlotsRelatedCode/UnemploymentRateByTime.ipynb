{
 "cells": [
  {
   "cell_type": "code",
   "execution_count": 1,
   "metadata": {
    "collapsed": true
   },
   "outputs": [],
   "source": [
    "import numpy as np\n",
    "import pandas as pd\n",
    "import matplotlib.pyplot as plt\n",
    "%matplotlib inline\n",
    "\n",
    "import seaborn as sns\n",
    "sns.set(style=\"whitegrid\", color_codes=True)"
   ]
  },
  {
   "cell_type": "code",
   "execution_count": 14,
   "metadata": {
    "collapsed": false
   },
   "outputs": [],
   "source": [
    "unemp=pd.read_csv(\"NYC_umploymentRate.csv\")"
   ]
  },
  {
   "cell_type": "code",
   "execution_count": 28,
   "metadata": {
    "collapsed": false
   },
   "outputs": [
    {
     "data": {
      "text/html": [
       "<div>\n",
       "<table border=\"1\" class=\"dataframe\">\n",
       "  <thead>\n",
       "    <tr style=\"text-align: right;\">\n",
       "      <th></th>\n",
       "      <th>﻿YEAR</th>\n",
       "      <th>Labor Force</th>\n",
       "      <th>Employment</th>\n",
       "      <th>Emp/Pop</th>\n",
       "      <th>Unemployed</th>\n",
       "      <th>Unemp Rate</th>\n",
       "      <th>LFPART</th>\n",
       "    </tr>\n",
       "  </thead>\n",
       "  <tbody>\n",
       "    <tr>\n",
       "      <th>1</th>\n",
       "      <td>Jan-76</td>\n",
       "      <td>3,117.2</td>\n",
       "      <td>2,771.1</td>\n",
       "      <td>48.7</td>\n",
       "      <td>346.1</td>\n",
       "      <td>11.1</td>\n",
       "      <td>54.7</td>\n",
       "    </tr>\n",
       "    <tr>\n",
       "      <th>2</th>\n",
       "      <td>Feb-76</td>\n",
       "      <td>3,114.7</td>\n",
       "      <td>2,770.0</td>\n",
       "      <td>48.7</td>\n",
       "      <td>344.7</td>\n",
       "      <td>11.1</td>\n",
       "      <td>54.7</td>\n",
       "    </tr>\n",
       "    <tr>\n",
       "      <th>3</th>\n",
       "      <td>Mar-76</td>\n",
       "      <td>3,112.6</td>\n",
       "      <td>2,768.8</td>\n",
       "      <td>48.7</td>\n",
       "      <td>343.8</td>\n",
       "      <td>11.0</td>\n",
       "      <td>54.7</td>\n",
       "    </tr>\n",
       "    <tr>\n",
       "      <th>4</th>\n",
       "      <td>Apr-76</td>\n",
       "      <td>3,111.6</td>\n",
       "      <td>2,767.9</td>\n",
       "      <td>48.7</td>\n",
       "      <td>343.7</td>\n",
       "      <td>11.0</td>\n",
       "      <td>54.7</td>\n",
       "    </tr>\n",
       "    <tr>\n",
       "      <th>5</th>\n",
       "      <td>May-76</td>\n",
       "      <td>3,112.0</td>\n",
       "      <td>2,767.2</td>\n",
       "      <td>48.7</td>\n",
       "      <td>344.8</td>\n",
       "      <td>11.1</td>\n",
       "      <td>54.7</td>\n",
       "    </tr>\n",
       "  </tbody>\n",
       "</table>\n",
       "</div>"
      ],
      "text/plain": [
       "    ﻿YEAR Labor Force Employment Emp/Pop Unemployed Unemp Rate LFPART\n",
       "1  Jan-76     3,117.2    2,771.1    48.7      346.1       11.1   54.7\n",
       "2  Feb-76     3,114.7    2,770.0    48.7      344.7       11.1   54.7\n",
       "3  Mar-76     3,112.6    2,768.8    48.7      343.8       11.0   54.7\n",
       "4  Apr-76     3,111.6    2,767.9    48.7      343.7       11.0   54.7\n",
       "5  May-76     3,112.0    2,767.2    48.7      344.8       11.1   54.7"
      ]
     },
     "execution_count": 28,
     "metadata": {},
     "output_type": "execute_result"
    }
   ],
   "source": [
    "unemp=unemp.ix[:, 0:7] #only select first seven useful columns"
   ]
  },
  {
   "cell_type": "code",
   "execution_count": 29,
   "metadata": {
    "collapsed": false
   },
   "outputs": [
    {
     "name": "stdout",
     "output_type": "stream",
     "text": [
      "<class 'pandas.core.frame.DataFrame'>\n",
      "Int64Index: 504 entries, 1 to 504\n",
      "Data columns (total 7 columns):\n",
      "﻿YEAR          504 non-null object\n",
      "Labor Force    494 non-null object\n",
      "Employment     494 non-null object\n",
      "Emp/Pop        494 non-null object\n",
      "Unemployed     494 non-null object\n",
      "Unemp Rate     494 non-null object\n",
      "LFPART         494 non-null object\n",
      "dtypes: object(7)\n",
      "memory usage: 31.5+ KB\n"
     ]
    }
   ],
   "source": [
    "unemp.info()\n",
    "unemp=unemp.dropna(subset=['\\ufeffYEAR'])\n",
    "unemp['Date'] = pd.to_datetime(unemp['\\ufeffYEAR'], format=\"%b-%y\")"
   ]
  },
  {
   "cell_type": "code",
   "execution_count": 31,
   "metadata": {
    "collapsed": false
   },
   "outputs": [],
   "source": [
    "unemp['Year'] = unemp['Date'].map(lambda x: x.year )\n",
    "unemp['Month'] = unemp['Date'].map(lambda x: x.month )"
   ]
  },
  {
   "cell_type": "code",
   "execution_count": 53,
   "metadata": {
    "collapsed": false
   },
   "outputs": [
    {
     "data": {
      "image/png": "[encoded data removed]",
      "text/plain": [
       "<matplotlib.figure.Figure at 0x11a7caba8>"
      ]
     },
     "metadata": {},
     "output_type": "display_data"
    }
   ],
   "source": [
    "select_range=unemp[(unemp['Year']>=2006)&(unemp['Year']<=2015)]\n",
    "plt.plot_date(x=select_range['Date'], y=select_range['Unemp Rate'], fmt=\"r-\")\n",
    "plt.title(\"Unemployment Rate From Year 2006 to Year 2015\")\n",
    "plt.xlabel(\"Year\")\n",
    "plt.ylabel(\"Unmeployment Rate (%)\")\n",
    "plt.savefig(\"unemploymentRate.jpeg\")\n",
    "plt.show()"
   ]
  },
  {
   "cell_type": "code",
   "execution_count": null,
   "metadata": {
    "collapsed": true
   },
   "outputs": [],
   "source": []
  }
 ],
 "metadata": {
  "anaconda-cloud": {},
  "kernelspec": {
   "display_name": "Python [Root]",
   "language": "python",
   "name": "Python [Root]"
  },
  "language_info": {
   "codemirror_mode": {
    "name": "ipython",
    "version": 3
   },
   "file_extension": ".py",
   "mimetype": "text/x-python",
   "name": "python",
   "nbconvert_exporter": "python",
   "pygments_lexer": "ipython3",
   "version": "3.5.2"
  }
 },
 "nbformat": 4,
 "nbformat_minor": 0
}
